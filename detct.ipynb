{
 "cells": [
  {
   "cell_type": "code",
   "execution_count": null,
   "id": "cefcbdca",
   "metadata": {},
   "outputs": [],
   "source": []
  },
  {
   "cell_type": "code",
   "execution_count": null,
   "id": "13d913b9",
   "metadata": {},
   "outputs": [],
   "source": [
    "import cv2\n",
    "\n",
    "path = \"C:\\\\Users\\\\Tanishq Yadav\\\\AVi\\\\haarcascades\\\\cascade.xml\"  # PATH \n",
    "cameraNo = 1                       #CAMERA NUMBER\n",
    "objectName = 'True Sample'       #NAME TO DISPLAY\n",
    "frameWidth= 1920 #640                     # DISPLAY WIDTH\n",
    "frameHeight = 1080 #480                  # DISPLAY HEIGHT\n",
    "color= (255,0,255)\n",
    "\n",
    "\n",
    "cap = cv2.VideoCapture(cameraNo)\n",
    "cap.set(3, frameWidth)\n",
    "cap.set(4, frameHeight)\n",
    "\n",
    "cv2.namedWindow(\"Result\")\n",
    "\n",
    "# LOAD THE CLASSIFIERS DOWNLOADED\n",
    "cascade = cv2.CascadeClassifier(path)\n",
    "\n",
    "\n",
    "while True:\n",
    "    # GET CAMERA IMAGE AND CONVERT TO GRAYSCALE\n",
    "    success, img = cap.read()\n",
    "    gray = cv2.cvtColor(img, cv2.COLOR_BGR2GRAY)\n",
    "    \n",
    "    objects = cascade.detectMultiScale(gray,1.5,5)\n",
    "    # DISPLAY THE DETECTED OBJECTS\n",
    "    for (x,y,w,h) in objects:\n",
    "        area = w*h\n",
    "        minArea = cv2.getTrackbarPos(\"Min Area\", \"Result\")\n",
    "        if area >minArea:\n",
    "            cv2.rectangle(img,(x,y),(x+w,y+h),color,3)\n",
    "            cv2.putText(img,objectName,(x,y-5),cv2.FONT_HERSHEY_COMPLEX_SMALL,1,color,2)\n",
    "            roi_color = img[y:y+h, x:x+w]\n",
    "\n",
    "    cv2.imshow(\"Result\", img)\n",
    "    if cv2.waitKey(25) & 0xFF == ord('q'):\n",
    "        break\n",
    "\n",
    "cv2.destroyAllWindows()"
   ]
  },
  {
   "cell_type": "code",
   "execution_count": null,
   "id": "e8c4c821",
   "metadata": {},
   "outputs": [],
   "source": [
    "cv2.Cascade.accuracy(path)"
   ]
  },
  {
   "cell_type": "code",
   "execution_count": null,
   "id": "649fed20",
   "metadata": {},
   "outputs": [],
   "source": []
  }
 ],
 "metadata": {
  "kernelspec": {
   "display_name": "Python 3",
   "language": "python",
   "name": "python3"
  },
  "language_info": {
   "codemirror_mode": {
    "name": "ipython",
    "version": 3
   },
   "file_extension": ".py",
   "mimetype": "text/x-python",
   "name": "python",
   "nbconvert_exporter": "python",
   "pygments_lexer": "ipython3",
   "version": "3.6.5"
  }
 },
 "nbformat": 4,
 "nbformat_minor": 5
}

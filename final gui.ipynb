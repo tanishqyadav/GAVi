{
 "cells": [
  {
   "cell_type": "code",
   "execution_count": 2,
   "metadata": {},
   "outputs": [],
   "source": [
    "from tkinter import *\n",
    "res=float()\n",
    "\n",
    "def addNumbers():\n",
    "    \n",
    "    \n",
    "    res= float(e1.get())*float(e2.get())- float(e3.get())* float(e4.get())\n",
    "    myText.set(res)\n",
    "    if res<=2 and res>=-2:\n",
    "        \n",
    "        Label(master, text=\"selected\").grid(row=6, sticky=W)\n",
    "        master['background']='#99e5ff'\n",
    "    else:\n",
    "        Label(master, text=\"damged\").grid(row=7, sticky=W)\n",
    "        master['background']='#ff0000'\n",
    " \n",
    "master = Tk()\n",
    "\n",
    "master.geometry(\"500x250\")\n",
    "myText=StringVar()\n",
    "Label(master, text=\"ideal product \").grid(row=0, sticky=W)\n",
    "Label(master, text=\"lenght_1\").grid(row=1, sticky=W)\n",
    "Label(master, text=\"breadth_1\").grid(row=2, sticky=W)\n",
    "Label(master, text=\"new product\").grid(row=3, sticky=W)\n",
    "Label(master, text=\"lenght_2\").grid(row=4, sticky=W)\n",
    "Label(master, text=\"breadth_2\").grid(row=5, sticky=W)\n",
    "Label(master, text=\"Result:\").grid(row=7, sticky=W)\n",
    "\n",
    "result=Label(master, text=\"\", textvariable=myText).grid(row=7,column=1, sticky=W)\n",
    " \n",
    "e1 = Entry(master)\n",
    "e2 = Entry(master)\n",
    "e3 = Entry(master)\n",
    "e4 = Entry(master)\n",
    " \n",
    "e1.grid(row=1, column=1)\n",
    "e2.grid(row=2, column=1)\n",
    "e3.grid(row=4, column=1)\n",
    "e4.grid(row=5, column=1)\n",
    " \n",
    "b = Button(master, text=\"Calculate\", command=addNumbers)\n",
    "b.grid(row=2, column=3,columnspan=2, rowspan=2,sticky=W+E+N+S, padx=5, pady=5)\n",
    "\n",
    "\n",
    "    \n",
    " \n",
    "mainloop()"
   ]
  },
  {
   "cell_type": "code",
   "execution_count": null,
   "metadata": {},
   "outputs": [],
   "source": []
  }
 ],
 "metadata": {
  "kernelspec": {
   "display_name": "Python 3",
   "language": "python",
   "name": "python3"
  },
  "language_info": {
   "codemirror_mode": {
    "name": "ipython",
    "version": 3
   },
   "file_extension": ".py",
   "mimetype": "text/x-python",
   "name": "python",
   "nbconvert_exporter": "python",
   "pygments_lexer": "ipython3",
   "version": "3.6.5"
  }
 },
 "nbformat": 4,
 "nbformat_minor": 4
}

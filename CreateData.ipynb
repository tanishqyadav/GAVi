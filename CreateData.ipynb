{
 "cells": [
  {
   "cell_type": "code",
   "execution_count": null,
   "id": "relative-finding",
   "metadata": {},
   "outputs": [],
   "source": []
  },
  {
   "cell_type": "code",
   "execution_count": 3,
   "id": "mobile-carnival",
   "metadata": {},
   "outputs": [],
   "source": [
    "import cv2\n",
    "import os\n",
    "import time\n",
    "\n",
    "#####################################################\n",
    "\n",
    "myPath = 'data/images' # Rasbperry Pi:  '/home/pi/Desktop/data/images'\n",
    "cameraNo = 1\n",
    "cameraBrightness = 180\n",
    "moduleVal = 10  # SAVE EVERY ITH FRAME TO AVOID REPETITION\n",
    "minBlur = 500  # SMALLER VALUE MEANS MORE BLURRINESS PRESENT\n",
    "grayImage = False # IMAGES SAVED COLORED OR GRAY\n",
    "saveData = True   # SAVE DATA FLAG\n",
    "showImage = True  # IMAGE DISPLAY FLAG\n",
    "imgWidth = 180\n",
    "imgHeight = 120\n",
    "\n",
    "\n",
    "#####################################################\n",
    "\n",
    "global countFolder\n",
    "cap = cv2.VideoCapture(cameraNo)\n",
    "cap.set(3, 640)\n",
    "cap.set(4, 480)\n",
    "cap.set(10,cameraBrightness)\n",
    "\n",
    "\n",
    "count = 0\n",
    "countSave =0\n",
    "\n",
    "def saveDataFunc():\n",
    "    global countFolder\n",
    "    countFolder = 0\n",
    "    while os.path.exists( myPath+ str(countFolder)):\n",
    "        countFolder += 1\n",
    "    os.makedirs(myPath + str(countFolder))\n",
    "\n",
    "if saveData:saveDataFunc()\n",
    "\n",
    "\n",
    "while True:\n",
    "\n",
    "    success, img = cap.read()\n",
    "    img = cv2.resize(img,(imgWidth,imgHeight))\n",
    "    if grayImage:img = cv2.cvtColor(img,cv2.COLOR_BGR2GRAY)\n",
    "    if saveData:\n",
    "        blur = cv2.Laplacian(img, cv2.CV_64F).var()\n",
    "        if count % moduleVal ==0 and blur > minBlur:\n",
    "            nowTime = time.time()\n",
    "            cv2.imwrite(myPath + str(countFolder) +\n",
    "                    '/' + str(countSave)+\"_\"+ str(int(blur))+\"_\"+str(nowTime)+\".png\", img)\n",
    "            countSave+=1\n",
    "        count += 1\n",
    "\n",
    "    if showImage:\n",
    "        cv2.imshow(\"Image\", img)\n",
    "\n",
    "    if cv2.waitKey(1) & 0xFF == ord('q'):\n",
    "        break\n",
    "\n",
    "cap.release()\n",
    "cv2.destroyAllWindows()"
   ]
  },
  {
   "cell_type": "code",
   "execution_count": 3,
   "id": "formed-colors",
   "metadata": {},
   "outputs": [],
   "source": [
    "cv2.destroyAllWindows()"
   ]
  },
  {
   "cell_type": "code",
   "execution_count": null,
   "id": "informed-actress",
   "metadata": {},
   "outputs": [],
   "source": []
  }
 ],
 "metadata": {
  "kernelspec": {
   "display_name": "Python 3",
   "language": "python",
   "name": "python3"
  },
  "language_info": {
   "codemirror_mode": {
    "name": "ipython",
    "version": 3
   },
   "file_extension": ".py",
   "mimetype": "text/x-python",
   "name": "python",
   "nbconvert_exporter": "python",
   "pygments_lexer": "ipython3",
   "version": "3.6.5"
  }
 },
 "nbformat": 4,
 "nbformat_minor": 5
}

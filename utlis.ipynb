{
 "cells": [
  {
   "cell_type": "code",
   "execution_count": 2,
   "metadata": {},
   "outputs": [],
   "source": [
    "import cv2\n",
    "import numpy as np"
   ]
  },
  {
   "cell_type": "code",
   "execution_count": 3,
   "metadata": {},
   "outputs": [],
   "source": [
    "def getContours(img,cThr=[100,100],showCanny=False,minArea=1000,filter=0,draw =False):\n",
    "    imgGray = cv2.cvtColor(img,cv2.COLOR_BGR2GRAY)\n",
    "    imgBlur = cv2.GaussianBlur(imgGray,(5,5),1)\n",
    "    imgCanny = cv2.Canny(imgBlur,cThr[0],cThr[1])\n",
    "    kernel = np.ones((5,5))\n",
    "    imgDial = cv2.dilate(imgCanny,kernel,iterations=3)\n",
    "    imgThre = cv2.erode(imgDial,kernel,iterations=2)\n",
    "    if showCanny:cv2.imshow('Canny',imgThre)\n",
    "    contours,hiearchy = cv2.findContours(imgThre,cv2.RETR_EXTERNAL,cv2.CHAIN_APPROX_SIMPLE)\n",
    "    finalCountours = []\n",
    "    for i in contours:\n",
    "        area = cv2.contourArea(i)\n",
    "        if area > minArea:\n",
    "            peri = cv2.arcLength(i,True)\n",
    "            approx = cv2.approxPolyDP(i,0.02*peri,True)\n",
    "            bbox = cv2.boundingRect(approx)\n",
    "            if filter > 0:\n",
    "                if len(approx) == filter:\n",
    "                    finalCountours.append([len(approx),area,approx,bbox,i])\n",
    "            else:\n",
    "                finalCountours.append([len(approx),area,approx,bbox,i])\n",
    "    finalCountours = sorted(finalCountours,key = lambda x:x[1] ,reverse= True)\n",
    "    if draw:\n",
    "        for con in finalCountours:\n",
    "            cv2.drawContours(img,con[4],-1,(0,0,255),3)\n",
    "    return img, finalCountours\n"
   ]
  },
  {
   "cell_type": "code",
   "execution_count": 4,
   "metadata": {},
   "outputs": [],
   "source": [
    "def reorder(myPoints):\n",
    "    #print(myPoints.shape)\n",
    "    myPointsNew = np.zeros_like(myPoints)\n",
    "    myPoints = myPoints.reshape((4,2))\n",
    "    add = myPoints.sum(1)\n",
    "    myPointsNew[0] = myPoints[np.argmin(add)]\n",
    "    myPointsNew[3] = myPoints[np.argmax(add)]\n",
    "    diff = np.diff(myPoints,axis=1)\n",
    "    myPointsNew[1]= myPoints[np.argmin(diff)]\n",
    "    myPointsNew[2] = myPoints[np.argmax(diff)]\n",
    "    return myPointsNew"
   ]
  },
  {
   "cell_type": "code",
   "execution_count": 5,
   "metadata": {},
   "outputs": [],
   "source": [
    "def warpImg (img,points,w,h,pad=20):\n",
    "    # print(points)\n",
    "    points =reorder(points)\n",
    "    pts1 = np.float32(points)\n",
    "    pts2 = np.float32([[0,0],[w,0],[0,h],[w,h]])\n",
    "    matrix = cv2.getPerspectiveTransform(pts1,pts2)\n",
    "    imgWarp = cv2.warpPerspective(img,matrix,(w,h))\n",
    "    imgWarp = imgWarp[pad:imgWarp.shape[0]-pad,pad:imgWarp.shape[1]-pad]\n",
    "    return imgWarp"
   ]
  },
  {
   "cell_type": "code",
   "execution_count": 6,
   "metadata": {},
   "outputs": [],
   "source": [
    "\n",
    "def findDis(pts1,pts2):\n",
    "    return ((pts2[0]-pts1[0])**2 + (pts2[1]-pts1[1])**2)**0.5"
   ]
  },
  {
   "cell_type": "code",
   "execution_count": null,
   "metadata": {},
   "outputs": [],
   "source": []
  },
  {
   "cell_type": "code",
   "execution_count": null,
   "metadata": {},
   "outputs": [],
   "source": []
  },
  {
   "cell_type": "code",
   "execution_count": null,
   "metadata": {},
   "outputs": [],
   "source": []
  },
  {
   "cell_type": "code",
   "execution_count": null,
   "metadata": {},
   "outputs": [],
   "source": []
  },
  {
   "cell_type": "code",
   "execution_count": null,
   "metadata": {},
   "outputs": [],
   "source": []
  }
 ],
 "metadata": {
  "kernelspec": {
   "display_name": "Python 3",
   "language": "python",
   "name": "python3"
  },
  "language_info": {
   "codemirror_mode": {
    "name": "ipython",
    "version": 3
   },
   "file_extension": ".py",
   "mimetype": "text/x-python",
   "name": "python",
   "nbconvert_exporter": "python",
   "pygments_lexer": "ipython3",
   "version": "3.6.5"
  }
 },
 "nbformat": 4,
 "nbformat_minor": 4
}

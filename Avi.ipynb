{
 "cells": [
  {
   "cell_type": "code",
   "execution_count": 19,
   "id": "66e8f313",
   "metadata": {},
   "outputs": [],
   "source": [
    "import cv2\n",
    "import import_ipynb\n",
    "import utlis\n",
    "import size_detection\n",
    "import detct"
   ]
  },
  {
   "cell_type": "code",
   "execution_count": 20,
   "id": "68fa4725",
   "metadata": {},
   "outputs": [],
   "source": [
    "\n",
    "\n",
    "import tkinter as tk\n",
    "from tkinter import *\n",
    "from PIL import Image, ImageTk\n",
    "\n",
    "import time\n"
   ]
  },
  {
   "cell_type": "code",
   "execution_count": 21,
   "id": "06ca8887",
   "metadata": {},
   "outputs": [
    {
     "data": {
      "text/plain": [
       "'C:\\\\Users\\\\Tanishq Yadav\\\\AVi'"
      ]
     },
     "execution_count": 21,
     "metadata": {},
     "output_type": "execute_result"
    }
   ],
   "source": [
    "import os\n",
    "os. getcwd() \n"
   ]
  },
  {
   "cell_type": "code",
   "execution_count": 22,
   "id": "bd513369",
   "metadata": {},
   "outputs": [
    {
     "ename": "NameError",
     "evalue": "name 'objsize' is not defined",
     "output_type": "error",
     "traceback": [
      "\u001b[1;31m---------------------------------------------------------------------------\u001b[0m",
      "\u001b[1;31mNameError\u001b[0m                                 Traceback (most recent call last)",
      "\u001b[1;32m<ipython-input-22-8303d34d2b6f>\u001b[0m in \u001b[0;36m<module>\u001b[1;34m\u001b[0m\n\u001b[0;32m     39\u001b[0m     \u001b[0mbreadth\u001b[0m \u001b[1;33m=\u001b[0m \u001b[0mLabel\u001b[0m\u001b[1;33m(\u001b[0m\u001b[0mroot\u001b[0m\u001b[1;33m,\u001b[0m\u001b[0mtext\u001b[0m \u001b[1;33m=\u001b[0m \u001b[1;34m\"Breadth\"\u001b[0m\u001b[1;33m)\u001b[0m\u001b[1;33m.\u001b[0m\u001b[0mplace\u001b[0m\u001b[1;33m(\u001b[0m\u001b[0mx\u001b[0m \u001b[1;33m=\u001b[0m \u001b[1;36m700\u001b[0m\u001b[1;33m,\u001b[0m\u001b[0my\u001b[0m \u001b[1;33m=\u001b[0m \u001b[1;36m200\u001b[0m\u001b[1;33m)\u001b[0m\u001b[1;33m\u001b[0m\u001b[0m\n\u001b[0;32m     40\u001b[0m \u001b[1;33m\u001b[0m\u001b[0m\n\u001b[1;32m---> 41\u001b[1;33m     \u001b[0mobjsize\u001b[0m\u001b[1;33m(\u001b[0m\u001b[1;33m)\u001b[0m\u001b[1;33m\u001b[0m\u001b[0m\n\u001b[0m\u001b[0;32m     42\u001b[0m     \u001b[0mtime\u001b[0m\u001b[1;33m.\u001b[0m\u001b[0msleep\u001b[0m\u001b[1;33m(\u001b[0m\u001b[1;36m10\u001b[0m\u001b[1;33m)\u001b[0m\u001b[1;33m\u001b[0m\u001b[0m\n\u001b[0;32m     43\u001b[0m \u001b[1;33m\u001b[0m\u001b[0m\n",
      "\u001b[1;31mNameError\u001b[0m: name 'objsize' is not defined"
     ]
    }
   ],
   "source": [
    "import tkinter as tk\n",
    "from tkinter import *\n",
    "from PIL import Image, ImageTk\n",
    "import cv2\n",
    "\n",
    "\n",
    "class MainWindow():\n",
    "    def __init__(self, window, cap):\n",
    "        self.window = window\n",
    "        self.cap = cap\n",
    "        self.width = self.cap.get(cv2.CAP_PROP_FRAME_WIDTH)\n",
    "        self.height = self.cap.get(cv2.CAP_PROP_FRAME_HEIGHT)\n",
    "        self.interval = 20 # Interval in ms to get the latest frame\n",
    "\n",
    "        # Create canvas for image\n",
    "        self.canvas = tk.Canvas(self.window, width=self.width, height=self.height)\n",
    "        self.canvas.grid(row=0, column=0)\n",
    "\n",
    "        # Update image on canvas\n",
    "        self.update_image()\n",
    "\n",
    "    def update_image(self):\n",
    "        # Get the latest frame and convert image format\n",
    "        self.image = cv2.cvtColor(self.cap.read()[1], cv2.COLOR_BGR2RGB) # to RGB\n",
    "        self.image = Image.fromarray(self.image) # to PIL format\n",
    "        self.image = ImageTk.PhotoImage(self.image) # to ImageTk format\n",
    "\n",
    "        # Update image\n",
    "        self.canvas.create_image(0, 0, anchor=tk.NW, image=self.image)\n",
    "\n",
    "        # Repeat every 'interval' ms\n",
    "        self.window.after(self.interval, self.update_image)\n",
    "\n",
    "if __name__ == \"__main__\":\n",
    "    root = tk.Toplevel()\n",
    "    MainWindow(root, cv2.VideoCapture(1))\n",
    "    name = Label(root, text = \"Intput\").place(x = 700,y = 30)\n",
    "    length = Label(root,text = \"Length\").place(x = 700,y = 100)\n",
    "    breadth = Label(root,text = \"Breadth\").place(x = 700,y = 200)\n",
    "    \n",
    "    objsize()\n",
    "    time.sleep(10)\n",
    "    \n",
    "    objshape.objshpe()\n",
    "    time .sleep(5)\n",
    "        \n",
    "    detect.detc()\n",
    "    time.sleep(3)\n",
    "    \n",
    "    l1 = Entry(root, width = 30).place(x = 770, y = 100)\n",
    "    b1 = Entry(root, width = 30).place(x = 770, y = 200)\n",
    "    n = Label(root,text = \"output\").place(x = 1000,y = 30)\n",
    "    length = Label(root,text = \"Length\").place(x = 1000,y = 100)\n",
    "    breadth = Label(root,text = \"Breadth\").place(x = 1000,y = 200)\n",
    "    l2 = Entry(root,width = 30).place(x = 1070,y = 100)\n",
    "    b2 = Entry(root,width = 30).place(x = 1070,y = 200)\n",
    "    button = Button(root, text = \"Submit\").place(x = 770,y = 250)\n",
    "    root.geometry(\"1500x1500\")\n",
    "    root['background']='#99e5ff'\n",
    "    \n",
    "    \n",
    "    root.mainloop()\n",
    "    \n"
   ]
  },
  {
   "cell_type": "code",
   "execution_count": null,
   "id": "4268cc62",
   "metadata": {},
   "outputs": [],
   "source": []
  },
  {
   "cell_type": "code",
   "execution_count": null,
   "id": "7682c3f3",
   "metadata": {},
   "outputs": [],
   "source": []
  }
 ],
 "metadata": {
  "kernelspec": {
   "display_name": "Python 3",
   "language": "python",
   "name": "python3"
  },
  "language_info": {
   "codemirror_mode": {
    "name": "ipython",
    "version": 3
   },
   "file_extension": ".py",
   "mimetype": "text/x-python",
   "name": "python",
   "nbconvert_exporter": "python",
   "pygments_lexer": "ipython3",
   "version": "3.6.5"
  }
 },
 "nbformat": 4,
 "nbformat_minor": 5
}

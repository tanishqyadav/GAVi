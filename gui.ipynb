{
 "cells": [
  {
   "cell_type": "code",
   "execution_count": 7,
   "metadata": {},
   "outputs": [
    {
     "name": "stdout",
     "output_type": "stream",
     "text": [
      "Requirement already satisfied: tk in c:\\users\\tanishq yadav\\avi\\lib\\site-packages\n"
     ]
    },
    {
     "name": "stderr",
     "output_type": "stream",
     "text": [
      "You are using pip version 9.0.3, however version 21.1.2 is available.\n",
      "You should consider upgrading via the 'python -m pip install --upgrade pip' command.\n"
     ]
    },
    {
     "name": "stdout",
     "output_type": "stream",
     "text": [
      "Requirement already satisfied: Pillow in c:\\users\\tanishq yadav\\avi\\lib\\site-packages"
     ]
    },
    {
     "name": "stderr",
     "output_type": "stream",
     "text": [
      "You are using pip version 9.0.3, however version 21.1.2 is available.\n",
      "You should consider upgrading via the 'python -m pip install --upgrade pip' command.\n"
     ]
    },
    {
     "name": "stdout",
     "output_type": "stream",
     "text": [
      "\n"
     ]
    }
   ],
   "source": [
    "#!pip install tk\n",
    "#!pip install Pillow"
   ]
  },
  {
   "cell_type": "code",
   "execution_count": 4,
   "metadata": {},
   "outputs": [],
   "source": [
    "import tkinter as tk\n",
    "from tkinter import *\n",
    "from PIL import Image, ImageTk\n",
    "import cv2\n",
    "\n",
    "\n",
    "class MainWindow():\n",
    "    def __init__(self, window, cap):\n",
    "        self.window = window\n",
    "        self.cap = cap\n",
    "        self.width = self.cap.get(cv2.CAP_PROP_FRAME_WIDTH)\n",
    "        self.height = self.cap.get(cv2.CAP_PROP_FRAME_HEIGHT)\n",
    "        self.interval = 20 # Interval in ms to get the latest frame\n",
    "\n",
    "        # Create canvas for image\n",
    "        self.canvas = tk.Canvas(self.window, width=self.width, height=self.height)\n",
    "        self.canvas.grid(row=0, column=0)\n",
    "\n",
    "        # Update image on canvas\n",
    "        self.update_image()\n",
    "\n",
    "    def update_image(self):\n",
    "        # Get the latest frame and convert image format\n",
    "        self.image = cv2.cvtColor(self.cap.read()[1], cv2.COLOR_BGR2RGB) # to RGB\n",
    "        self.image = Image.fromarray(self.image) # to PIL format\n",
    "        self.image = ImageTk.PhotoImage(self.image) # to ImageTk format\n",
    "\n",
    "        # Update image\n",
    "        self.canvas.create_image(0, 0, anchor=tk.NW, image=self.image)\n",
    "\n",
    "        # Repeat every 'interval' ms\n",
    "        self.window.after(self.interval, self.update_image)\n",
    "\n",
    "if __name__ == \"__main__\":\n",
    "    root = tk.Toplevel()\n",
    "    MainWindow(root, cv2.VideoCapture(1))\n",
    "    name = Label(root, text = \"Intput\").place(x = 700,y = 30)\n",
    "    length = Label(root,text = \"Length\").place(x = 700,y = 100)\n",
    "    breadth = Label(root,text = \"Breadth\").place(x = 700,y = 200)\n",
    "    l1 = Entry(root, width = 30).place(x = 770, y = 100)\n",
    "    b1 = Entry(root, width = 30).place(x = 770, y = 200)\n",
    "    n = Label(root,text = \"output\").place(x = 1000,y = 30)\n",
    "    length = Label(root,text = \"Length\").place(x = 1000,y = 100)\n",
    "    breadth = Label(root,text = \"Breadth\").place(x = 1000,y = 200)\n",
    "    l2 = Entry(root,width = 30).place(x = 1070,y = 100)\n",
    "    b2 = Entry(root,width = 30).place(x = 1070,y = 200)\n",
    "    button = Button(root, text = \"Submit\").place(x = 770,y = 250)\n",
    "    root.geometry(\"1500x1500\")\n",
    "    root['background']='#99e5ff'\n",
    "    \n",
    "    \n",
    "    root.mainloop()"
   ]
  },
  {
   "cell_type": "code",
   "execution_count": null,
   "metadata": {},
   "outputs": [],
   "source": []
  }
 ],
 "metadata": {
  "kernelspec": {
   "display_name": "Python 3",
   "language": "python",
   "name": "python3"
  },
  "language_info": {
   "codemirror_mode": {
    "name": "ipython",
    "version": 3
   },
   "file_extension": ".py",
   "mimetype": "text/x-python",
   "name": "python",
   "nbconvert_exporter": "python",
   "pygments_lexer": "ipython3",
   "version": "3.6.5"
  }
 },
 "nbformat": 4,
 "nbformat_minor": 4
}

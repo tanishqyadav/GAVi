{
 "cells": [
  {
   "cell_type": "code",
   "execution_count": 1,
   "metadata": {},
   "outputs": [],
   "source": [
    "#pip install import_ipynb"
   ]
  },
  {
   "cell_type": "code",
   "execution_count": 2,
   "metadata": {},
   "outputs": [],
   "source": [
    "import cv2"
   ]
  },
  {
   "cell_type": "code",
   "execution_count": 3,
   "metadata": {},
   "outputs": [
    {
     "name": "stdout",
     "output_type": "stream",
     "text": [
      "importing Jupyter notebook from utlis.ipynb\n"
     ]
    }
   ],
   "source": [
    "import numpy as np\n",
    "import import_ipynb\n",
    "import utlis\n",
    "import time "
   ]
  },
  {
   "cell_type": "code",
   "execution_count": 4,
   "metadata": {},
   "outputs": [
    {
     "name": "stdout",
     "output_type": "stream",
     "text": [
      "C:\\Users\\Tanishq Yadav\\AVi\n"
     ]
    }
   ],
   "source": [
    "import os\n",
    "cwd = os.getcwd()\n",
    "\n",
    "print(cwd)"
   ]
  },
  {
   "cell_type": "code",
   "execution_count": 5,
   "metadata": {},
   "outputs": [],
   "source": [
    "webcam = True\n",
    "path = 'C:/Users/Tanishq Yadav/AVi/1.jpg'\n",
    "cap = cv2.VideoCapture(1)\n",
    "cap.set(10,160)\n",
    "cap.set(3,1920)\n",
    "cap.set(4,1080)\n",
    "kbhit = 'Q'\n",
    "scale = 3\n",
    "#wP = 210 *scale\n",
    "#hP= 297 *scale\n",
    "wP =190 *scale\n",
    "hP= 290 *scale"
   ]
  },
  {
   "cell_type": "code",
   "execution_count": null,
   "metadata": {},
   "outputs": [],
   "source": []
  },
  {
   "cell_type": "code",
   "execution_count": 6,
   "metadata": {},
   "outputs": [],
   "source": [
    "\n",
    "while True:\n",
    "    if webcam:success,img = cap.read()\n",
    "    else: img = cv2.imread(path)\n",
    "\n",
    "    imgContours , conts = utlis.getContours(img,minArea=50000,filter=4)\n",
    "    if len(conts) != 0:\n",
    "        biggest = conts[0][2]\n",
    "        #print(biggest)\n",
    "        imgWarp = utlis.warpImg(img, biggest, wP,hP)\n",
    "        imgContours2, conts2 = utlis.getContours(imgWarp,\n",
    "                                                 minArea=2000, filter=4,\n",
    "                                                 cThr=[50,50],draw = False)\n",
    "        if len(conts) != 0:\n",
    "            for obj in conts2:\n",
    "                cv2.polylines(imgContours2,[obj[2]],True,(0,255,0),2)\n",
    "                nPoints = utlis.reorder(obj[2])\n",
    "                nW = round((utlis.findDis(nPoints[0][0]//scale,nPoints[1][0]//scale)/10),1)\n",
    "                nH = round((utlis.findDis(nPoints[0][0]//scale,nPoints[2][0]//scale)/10),1)\n",
    "                cv2.arrowedLine(imgContours2, (nPoints[0][0][0], nPoints[0][0][1]), (nPoints[1][0][0], nPoints[1][0][1]),\n",
    "                                (255, 0, 255), 3, 8, 0, 0.05)\n",
    "                cv2.arrowedLine(imgContours2, (nPoints[0][0][0], nPoints[0][0][1]), (nPoints[2][0][0], nPoints[2][0][1]),\n",
    "                                (255, 0, 255), 3, 8, 0, 0.05)\n",
    "                x, y, w, h = obj[3]\n",
    "                cv2.putText(imgContours2, '{}cm'.format(nW), (x + 30, y - 10), cv2.FONT_HERSHEY_COMPLEX_SMALL, 1.5,\n",
    "                            (255, 0, 255), 2)\n",
    "                cv2.putText(imgContours2, '{}cm'.format(nH), (x - 70, y + h // 2), cv2.FONT_HERSHEY_COMPLEX_SMALL, 1.5,\n",
    "                            (255, 0, 255), 2)\n",
    "        cv2.imshow('A4', imgContours2)\n",
    "    a = 4\n",
    "    b = 4\n",
    "    x = a*b\n",
    "    img = cv2.resize(img,(0,0),None,0.5,0.5)\n",
    "    cv2.imshow('Original',img)\n",
    "    #cv2.waitKey(1)\n",
    "    time.sleep(3)\n",
    "    print\n",
    "    k = cv2.waitKey(33)\n",
    "    if k==27:    # Esc key to stop\n",
    "        break\n",
    "    elif k==-1:  # normally -1 returned,so don't print it\n",
    "        continue\n",
    "    else:\n",
    "        continue\n",
    "        #print k # else print its value\n",
    "\n",
    "\n",
    "cv2.destroyAllWindows()"
   ]
  },
  {
   "cell_type": "code",
   "execution_count": 7,
   "metadata": {},
   "outputs": [],
   "source": [
    "#cv2.destroyAllWindows()\n",
    "#cv2.destroyWindow('Original')\n"
   ]
  },
  {
   "cell_type": "code",
   "execution_count": null,
   "metadata": {},
   "outputs": [],
   "source": []
  },
  {
   "cell_type": "code",
   "execution_count": null,
   "metadata": {},
   "outputs": [],
   "source": []
  },
  {
   "cell_type": "code",
   "execution_count": null,
   "metadata": {},
   "outputs": [],
   "source": []
  },
  {
   "cell_type": "code",
   "execution_count": null,
   "metadata": {},
   "outputs": [],
   "source": []
  }
 ],
 "metadata": {
  "kernelspec": {
   "display_name": "Python 3",
   "language": "python",
   "name": "python3"
  },
  "language_info": {
   "codemirror_mode": {
    "name": "ipython",
    "version": 3
   },
   "file_extension": ".py",
   "mimetype": "text/x-python",
   "name": "python",
   "nbconvert_exporter": "python",
   "pygments_lexer": "ipython3",
   "version": "3.6.5"
  }
 },
 "nbformat": 4,
 "nbformat_minor": 4
}
